{
 "cells": [
  {
   "cell_type": "markdown",
   "metadata": {},
   "source": [
    "## Before you begin\n",
    "\n",
    "This workshop assumes that you know the basics of dealing with images in Python (i.e., you are familiar with the material [here](https://github.com/TheJacksonLaboratory/PythonImagingBasic)). If you are not, please work through the prerequisite material prior to attending this workshop.\n",
    "\n",
    "## Tools we will be using\n",
    "\n",
    "You will need to use three software tools in addition to Python for this workshop: git, conda, and jupyter.\n",
    "\n",
    "[git](https://git-scm.com) is only used in this workshop to copy the course notes and code to your local computer, although it is a very powerful tool for managing your projects!\n",
    "\n",
    "[conda](https://conda.io/docs/) is a tool used for two purposes: to create [environments](https://conda.io/docs/user-guide/tasks/manage-environments.html) for your projects and to manage Python packages. It will be a very good idea to read up on conda before you begin this course, spefically how to use environments.\n",
    "\n",
    "[jupyter](http://jupyter.org) is a tool for developing your code in \\\"notebooks\\\" (file extension \\*.ipynb) in a web browser. This course is based around a series of such notebooks (you are looking at a notebook now!). The main utility of using notebooks for image analysis is that you can save all of your output on the same page as your code, which helps you, and your collaborators, to follow the steps of an analysis.\n",
    "\n",
    "## Setting up for the class\n",
    "\n",
    "1. Clone the git repository to your computer.\n",
    "    \n",
    "    ```bash\n",
    "    git clone https://github.com/TheJacksonLaboratory/images-as-signals.git\n",
    "\n",
    "    ```\n",
    "    **Windows Users**: You will first need to install [git](https://git-scm.com/download/win). Then you can use Git Bash to use the command shown above\n",
    "\n",
    "    **As an alternative to using git**, you can also download the repository as a zip file at https://github.com/TheJacksonLaboratory/[NEED_TO_UPDATE].\n",
    "    \n",
    "\n",
    "2. Install [Anaconda](https://www.anaconda.com/download/) (or [Miniconda](https://conda.io/miniconda.html))\n",
    "    * This gives you access to the `conda` Python package management system\n",
    "    * **Windows Users**: You may want to opt for the full install of Anaconda. This will give you \"Anaconda Prompt\" which will make it easier for you to follow along here.\n",
    "    \n",
    "    \n",
    "3. Using conda in a terminal window (or Anaconda prompt in Windows), navigate to the root directory of this workshop (should be called `images-as-signals` and create a virtual environment from the `environment.yml` file.\n",
    "    ```bash\n",
    "    conda env create -f environment.yml\n",
    "    ```\n",
    "  \n",
    "4. Launch Jupyter from the Anaconda launcher or command line (`jupyter notebook`)."
   ]
  }
 ],
 "metadata": {
  "kernelspec": {
   "display_name": "Python [conda env:signals] *",
   "language": "python",
   "name": "conda-env-signals-py"
  },
  "language_info": {
   "codemirror_mode": {
    "name": "ipython",
    "version": 3
   },
   "file_extension": ".py",
   "mimetype": "text/x-python",
   "name": "python",
   "nbconvert_exporter": "python",
   "pygments_lexer": "ipython3",
   "version": "3.7.4"
  }
 },
 "nbformat": 4,
 "nbformat_minor": 2
}
